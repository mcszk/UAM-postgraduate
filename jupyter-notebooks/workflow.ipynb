{
 "cells": [
  {
   "cell_type": "markdown",
   "metadata": {},
   "source": [
    "# Przetwarzanie tekstu na przykładzie strumienia danych z Twittera\n"
   ]
  },
  {
   "cell_type": "markdown",
   "metadata": {},
   "source": [
    "## Przykładowe przetwarzanie tekstu\n",
    "\n",
    "Poniższa komórka implementuje funkcję, która przyjmuje ciąg znaków (zmienną typu STRING) jako argument, modyfikuje ją i zwraca zmodyfikowaną wersję"
   ]
  },
  {
   "cell_type": "code",
   "execution_count": 1,
   "metadata": {
    "collapsed": false
   },
   "outputs": [
    {
     "name": "stdout",
     "output_type": "stream",
     "text": [
      "This is a sample text. It will be modified by sample_processing function. #uam #bigdata #postgraduate\n"
     ]
    }
   ],
   "source": [
    "def sample_processing(text):\n",
    "    return text + \" #uam #bigdata #postgraduate\"\n",
    "\n",
    "sample_text = \"This is a sample text. It will be modified by sample_processing function.\"\n",
    "processed_text = sample_processing(sample_text)\n",
    "print processed_text"
   ]
  },
  {
   "cell_type": "markdown",
   "metadata": {},
   "source": [
    "## Ustawienia kluczy i tokenów dla API Twittera\n",
    "\n",
    "W poniższej komórce ustawiane są zmienne niezbędne do uzyskania połączenia z API Twittera. Uzupełnij zmienne o swoje wartości kluczy i tokenów"
   ]
  },
  {
   "cell_type": "code",
   "execution_count": 2,
   "metadata": {
    "collapsed": true
   },
   "outputs": [],
   "source": [
    "access_token = \"2362404584-MJuLY5ISJq3CFxyDTVhuhI6rRjygCDxd9QYEzWg\"\n",
    "access_token_secret = \"pGD3PyMuz5M6YxzCkAryaytkPD0Eb2lF8q2aI9mNgg07o\"\n",
    "consumer_key = \"uOO1duKiGl0jaRBA9dRvewGXd\"\n",
    "consumer_secret = \"Odsld4Q5fAB9mk9VSJQUPYGDWcepOOUEZZk08Ya9CIR54szd4k\""
   ]
  },
  {
   "cell_type": "markdown",
   "metadata": {},
   "source": [
    "## Implementacja klasy służącej do Streamingu danych z Twittera\n",
    "\n",
    "W poniższej komórce implementowana jest klasa służąca do pobierania streamu danych z Twittera. Klasa ta dziedziczy klasę StreamListener pochodzącą z biblioteki tweepy (biblioteki służącej do łączenia się z API Twittera za pomocą Pythona).\n",
    "Implementacja poniższej klasy modyfikuje domyślną metodę on_status(), która uruchamiana jest przy pojawieniu się każdego nowego statusu (tweeta) na Twitterze. "
   ]
  },
  {
   "cell_type": "code",
   "execution_count": 9,
   "metadata": {
    "collapsed": false
   },
   "outputs": [],
   "source": [
    "#Import the necessary methods from tweepy library\n",
    "import tweepy\n",
    "from tweepy.streaming import StreamListener\n",
    "from tweepy import OAuthHandler\n",
    "from tweepy import Stream\n",
    "import json\n",
    "from elasticsearch import Elasticsearch\n",
    "\n",
    "es = Elasticsearch(\"http://localhost:9200/\")\n",
    "\n",
    "\n",
    "class StreamProcessingListener(StreamListener):\n",
    "\n",
    "     def on_status(self, status):\n",
    "        created_at = status.created_at\n",
    "        text = status.text\n",
    "        user_description = status.user.description\n",
    "        user_location = status.user.location\n",
    "        coords = status.coordinates\n",
    "        user_name = status.user.screen_name\n",
    "        user_created = status.user.created_at\n",
    "        followers = status.user.followers_count\n",
    "        id_str = status.id_str\n",
    "        retweets = status.retweet_count\n",
    "        bg_color = status.user.profile_background_color\n",
    "        \n",
    "        processed_text = sample_processing(text)\n",
    "        \n",
    "        es.index(index=\"twitter\",\n",
    "             doc_type=\"tweet\",\n",
    "             body={\n",
    "                \"created_at\": created_at,\n",
    "                \"text\": text,\n",
    "                \"user_description\": user_description,\n",
    "                \"user_location\": user_location,\n",
    "                \"coords\": coords,\n",
    "                \"user_name\": user_name,\n",
    "                \"user_created\": user_created,\n",
    "                \"followers\": followers,\n",
    "                \"id_str\": id_str,\n",
    "                \"retweets\": retweets,\n",
    "                \"bg_color\": bg_color,\n",
    "                \"processed_text\": processed_text})\n",
    "        \n",
    "        print text\n",
    "        \n",
    "        return True\n",
    "    \n",
    "     def on_error(self, status):\n",
    "        print(status)\n"
   ]
  },
  {
   "cell_type": "markdown",
   "metadata": {},
   "source": [
    "## Nawiązanie połączenia z API Twittera i uruchomienie stremingu\n",
    "\n",
    "W poniższej komórce nawiązywane jest połączenie z Twitterem za pomocą danych uwierzytelniających użytkownika a następnie uruchamiany jest 20 sekundowy streaming danych z przykładowym filtrem."
   ]
  },
  {
   "cell_type": "code",
   "execution_count": 10,
   "metadata": {
    "collapsed": false
   },
   "outputs": [
    {
     "name": "stdout",
     "output_type": "stream",
     "text": [
      "RT @NayskoSSJ2: elle a changé Marine lepen ptdddr https://t.co/klA3uyFg8c\n",
      "RT @roigada: -Mme Lepen que proposez vous pour réduire le chômage?\n",
      "-regardez c'est le score sur Candy Crush de Monsieur Macron\n",
      "-… \n",
      "#Présidentielle : un #débat sous haute tension entre #Macron et Marine #LePen https://t.co/JIQeOGN0fC #France #socialmedia\n",
      "@BergmannDomini2 Ce que vous et Merlanche ne comprenez pas, c'est qu'il faut reléguer la lepen dans les poubelles de l'histoire\n",
      "RT @roigada: -Mme Lepen que proposez vous pour réduire le chômage?\n",
      "-regardez c'est le score sur Candy Crush de Monsieur Macron\n",
      "-… \n",
      "RT @EnMarcheParis20: #LePen a tout fait pour éviter de parler de son programme pendant #2017LeDebat\n",
      "Comparez-le à celui de #Macron, vous… \n",
      "RT @DoriToribio: Qué peligro tiene esto... https://t.co/eR7YwFWG4M\n",
      "@ElWonker Ouais mais regarde y'a personne qui a osses dire je vote lepen et y'a moi mdrrrr\n",
      "Möglicher Wahlsieg #LePen s: \"Die Märkte könnten den #Euro in 48 Stunden zerstören\" https://t.co/NCMXuIdm9A\n",
      "RT @roigada: -Mme Lepen que proposez vous pour réduire le chômage?\n",
      "-regardez c'est le score sur Candy Crush de Monsieur Macron\n",
      "-… \n",
      "RT @roigada: -Mme Lepen que proposez vous pour réduire le chômage?\n",
      "-regardez c'est le score sur Candy Crush de Monsieur Macron\n",
      "-… \n",
      "LE PEN DEBATE KILLSHOT: ‘France Will Be Led By a Woman, Me or Mrs. Merkel’ (VIDEO) https://t.co/4JmwevEPm5: TRUTH. LePen OR FRANCE IS ASHES\n",
      "@enmarchefr  Bravo Mr MACRON...mme lepen (elle ne mérite même pas une majuscule)a montré hier toute l'étendue de sa bêtise...🙂\n",
      "RT @Seb_Ckl: 23h18 - Nous venons de perdre Marine LePen 😂😂 #2017LeDebat https://t.co/Gvb8NW5zaA\n",
      "Lepen qui prône l'amour, c'est Rocco Siffredi qui t'offre les fleurs\n",
      "RT @mehdihadk: le sourire de lepen wjjsjjzbejeb jv la tuer\n",
      "RT @aekun9: Journaliste: Mme Lepen à quelle heure avez vous dormi hier?\n",
      "\n",
      "LePen:  Non mais Macron sous le quinquennat d'Hollande il se couch…\n",
      "@Sargon_of_Akkad \n",
      "#freeKekistan lol https://t.co/WXXehoyShG\n",
      "RT @roigada: -Mme Lepen que proposez vous pour réduire le chômage?\n",
      "-regardez c'est le score sur Candy Crush de Monsieur Macron\n",
      "-… \n",
      "@isabellepasvrai @EmmanuelMacron @MLP_officiel @lepen Il lutte contre la fraude fiscale, fait des économies dans le… https://t.co/iMOiHMKks9\n",
      "RT @roigada: -Mme Lepen que proposez vous pour réduire le chômage?\n",
      "-regardez c'est le score sur Candy Crush de Monsieur Macron\n",
      "-… \n",
      "RT @BRESSONMike: #LePen s'interroge en plein debat sur une fakenews, au moment même où elle est lancée sur la toile...par la fachosp… \n",
      "Sur betclic je trouve pas le match Lepen - Macron, la côte est à combien ?\n",
      "RT @B3infos: 🇫🇷 #LePen à l'Elysée vue par @cocoboer pour @lesinrocks #Presidentielle2017 https://t.co/XxlrOSzgT7\n",
      "RT @Alkanz: La grosse boulette de comm de #LePen : sa pile de dossiers face à un #Macron sans doc. L'amateurisme face à la maîtrise #Debat2…\n",
      "RT @sofiakkar: Dônc Marine Lepen appelait Hitler \" tonton Dolfie \" 😱 #2017LeDebat https://t.co/3lZ2yKtFuU\n"
     ]
    }
   ],
   "source": [
    "import time\n",
    "\n",
    "#This handles Twitter authetification and the connection to Twitter Streaming API\n",
    "listener = StreamProcessingListener()\n",
    "auth = OAuthHandler(consumer_key, consumer_secret)\n",
    "auth.set_access_token(access_token, access_token_secret)\n",
    "stream = Stream(auth, listener)\n",
    "\n",
    "#This line filter Twitter Streams to capture data by the keywords: 'python', 'javascript', 'ruby'\n",
    "stream.filter(track=['LePen'], async=True)\n",
    "time.sleep(20)\n",
    "stream.disconnect()"
   ]
  }
 ],
 "metadata": {
  "kernelspec": {
   "display_name": "Python 2",
   "language": "python",
   "name": "python2"
  },
  "language_info": {
   "codemirror_mode": {
    "name": "ipython",
    "version": 2
   },
   "file_extension": ".py",
   "mimetype": "text/x-python",
   "name": "python",
   "nbconvert_exporter": "python",
   "pygments_lexer": "ipython2",
   "version": "2.7.10"
  }
 },
 "nbformat": 4,
 "nbformat_minor": 2
}
