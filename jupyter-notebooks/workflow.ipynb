{
 "cells": [
  {
   "cell_type": "markdown",
   "metadata": {},
   "source": [
    "# Przetwarzanie tekstu na przykładzie strumienia danych z Twittera\n"
   ]
  },
  {
   "cell_type": "markdown",
   "metadata": {},
   "source": [
    "## Przykładowe przetwarzanie tekstu\n",
    "\n",
    "Poniższa komórka implementuje funkcję, która przyjmuje ciąg znaków (zmienną typu STRING) jako argument, modyfikuje ją i zwraca zmodyfikowaną wersję"
   ]
  },
  {
   "cell_type": "code",
   "execution_count": 59,
   "metadata": {
    "collapsed": false
   },
   "outputs": [
    {
     "name": "stdout",
     "output_type": "stream",
     "text": [
      "This is a sample text. It will be modified by sample_processing function. #uam #bigdata #postgraduaté\n"
     ]
    }
   ],
   "source": [
    "def sample_processing(text):\n",
    "    return text + ur\" #uam #bigdata #postgraduaté\"\n",
    "\n",
    "sample_text = \"This is a sample text. It will be modified by sample_processing function.\"\n",
    "processed_text = sample_processing(sample_text)\n",
    "print processed_text"
   ]
  },
  {
   "cell_type": "markdown",
   "metadata": {},
   "source": [
    "## Ekstrakcja hashtagów za pomocą wyrażeń regularnych\n",
    "\n",
    "Poniższa komórka implementuje funkcję, która tworzy listę hashtagów występujących w tweecie.\n",
    "\n",
    "https://docs.python.org/2/library/re.html"
   ]
  },
  {
   "cell_type": "code",
   "execution_count": 60,
   "metadata": {
    "collapsed": false
   },
   "outputs": [
    {
     "name": "stdout",
     "output_type": "stream",
     "text": [
      "['#hashtag', '#anotherhashtag', '#YOLO']\n"
     ]
    }
   ],
   "source": [
    "import re\n",
    "\n",
    "def get_hashtags_list(tweet_text):\n",
    "    m = re.findall(ur'#\\w+', tweet_text, re.LOCALE)\n",
    "    return m\n",
    "\n",
    "print get_hashtags_list(\"Some sample tweet with some #hashtag, then some text and then #anotherhashtag again #YOLO\")"
   ]
  },
  {
   "cell_type": "code",
   "execution_count": null,
   "metadata": {
    "collapsed": true
   },
   "outputs": [],
   "source": []
  },
  {
   "cell_type": "markdown",
   "metadata": {},
   "source": [
    "## Tokenizacja tweetów\n",
    "Poniższa komórka implementuje funkcję, która dzieli tekst tweeta na listę tokenów.\n",
    "\n",
    "http://www.nltk.org/api/nltk.tokenize.html"
   ]
  },
  {
   "cell_type": "code",
   "execution_count": 61,
   "metadata": {
    "collapsed": true
   },
   "outputs": [],
   "source": [
    "import nltk\n",
    "\n",
    "# wpisz tutaj swoją funkcję"
   ]
  },
  {
   "cell_type": "markdown",
   "metadata": {},
   "source": [
    "## Stemming tokenów\n",
    "Poniższa komórka implementuje funkcję, która bierze jako argument listę tokenów i zwraca listę stemów.\n",
    "\n",
    "http://www.nltk.org/api/nltk.stem.html<br>\n",
    "http://www.nltk.org/howto/stem.html"
   ]
  },
  {
   "cell_type": "code",
   "execution_count": 62,
   "metadata": {
    "collapsed": true
   },
   "outputs": [],
   "source": [
    "# wpisz tutaj swoją funkcję"
   ]
  },
  {
   "cell_type": "markdown",
   "metadata": {},
   "source": [
    "## Lematyzacja tweetów\n",
    "Poniższa komórka implementuje funkcję, która przyjmuje tekst tweeta jako argument i zwraca jego zlematyzowaną wersję.\n",
    "\n",
    "http://www.nltk.org/_modules/nltk/stem/wordnet.html"
   ]
  },
  {
   "cell_type": "code",
   "execution_count": 63,
   "metadata": {
    "collapsed": true
   },
   "outputs": [],
   "source": [
    "# wpisz tutaj swoją funkcję"
   ]
  },
  {
   "cell_type": "markdown",
   "metadata": {},
   "source": [
    "## Lematyzacja przy użyciu części zdania (PoS tagging)\n",
    "Poniższa komórka implementuje funkcję, która przyjmuje tekst tweeta jako argument i zwraca listę par (token, część zdania).\n",
    "Następnie kolejna funkcja lematyzuje parę token w oparciu o rozpoznaną część zdania.\n",
    "\n",
    "http://www.nltk.org/api/nltk.tag.html<br>\n",
    "http://www.nltk.org/book/ch05.html"
   ]
  },
  {
   "cell_type": "code",
   "execution_count": 64,
   "metadata": {
    "collapsed": true
   },
   "outputs": [],
   "source": [
    "# wpisz tutaj swoją funkcję"
   ]
  },
  {
   "cell_type": "markdown",
   "metadata": {},
   "source": [
    "## Analiza sentymentalna tweetów"
   ]
  },
  {
   "cell_type": "code",
   "execution_count": 65,
   "metadata": {
    "collapsed": true
   },
   "outputs": [],
   "source": [
    "# wpisz tutaj swoją funkcję"
   ]
  },
  {
   "cell_type": "code",
   "execution_count": 66,
   "metadata": {
    "collapsed": false
   },
   "outputs": [
    {
     "name": "stdout",
     "output_type": "stream",
     "text": [
      "['#hashtag', '#andhashtagagain']\n"
     ]
    },
    {
     "data": {
      "text/plain": [
       "['#hashtag', '#andhashtagagain']"
      ]
     },
     "execution_count": 66,
     "metadata": {},
     "output_type": "execute_result"
    }
   ],
   "source": [
    "import re\n",
    "\n",
    "def get_hashtags_list(tweet_text):\n",
    "    m = re.findall(ur'#\\w+', tweet_text, re.LOCALE)\n",
    "    print m\n",
    "    return m\n",
    "\n",
    "get_hashtags_list(\"some tweet #hashtag, some sample text #andhashtagagain\")"
   ]
  },
  {
   "cell_type": "markdown",
   "metadata": {},
   "source": [
    "## Ustawienia kluczy i tokenów dla API Twittera\n",
    "\n",
    "W poniższej komórce ustawiane są zmienne niezbędne do uzyskania połączenia z API Twittera. Uzupełnij zmienne o swoje wartości kluczy i tokenów"
   ]
  },
  {
   "cell_type": "code",
   "execution_count": 67,
   "metadata": {
    "collapsed": true
   },
   "outputs": [],
   "source": [
    "access_token = \"2362404584-MJuLY5ISJq3CFxyDTVhuhI6rRjygCDxd9QYEzWg\"\n",
    "access_token_secret = \"pGD3PyMuz5M6YxzCkAryaytkPD0Eb2lF8q2aI9mNgg07o\"\n",
    "consumer_key = \"uOO1duKiGl0jaRBA9dRvewGXd\"\n",
    "consumer_secret = \"Odsld4Q5fAB9mk9VSJQUPYGDWcepOOUEZZk08Ya9CIR54szd4k\""
   ]
  },
  {
   "cell_type": "markdown",
   "metadata": {},
   "source": [
    "## Implementacja klasy służącej do Streamingu danych z Twittera\n",
    "\n",
    "W poniższej komórce implementowana jest klasa służąca do pobierania streamu danych z Twittera. Klasa ta dziedziczy klasę StreamListener pochodzącą z biblioteki tweepy (biblioteki służącej do łączenia się z API Twittera za pomocą Pythona).\n",
    "Implementacja poniższej klasy modyfikuje domyślną metodę on_status(), która uruchamiana jest przy pojawieniu się każdego nowego statusu (tweeta) na Twitterze. \n",
    "\n",
    "Funkcja on_status() zapisuje każdego tweeta do bazy danych Elasticsearch."
   ]
  },
  {
   "cell_type": "code",
   "execution_count": 68,
   "metadata": {
    "collapsed": false
   },
   "outputs": [],
   "source": [
    "#Import the necessary methods from tweepy library\n",
    "import tweepy\n",
    "from tweepy.streaming import StreamListener\n",
    "from tweepy import OAuthHandler\n",
    "from tweepy import Stream\n",
    "import json\n",
    "from elasticsearch import Elasticsearch\n",
    "\n",
    "es = Elasticsearch(\"http://localhost:9200/\")\n",
    "\n",
    "\n",
    "class StreamProcessingListener(StreamListener):\n",
    "\n",
    "     def on_status(self, status):\n",
    "        created_at = status.created_at\n",
    "        text = status.text\n",
    "        user_description = status.user.description\n",
    "        user_location = status.user.location\n",
    "        coords = status.coordinates\n",
    "        user_name = status.user.screen_name\n",
    "        user_created = status.user.created_at\n",
    "        followers = status.user.followers_count\n",
    "        id_str = status.id_str\n",
    "        retweets = status.retweet_count\n",
    "        bg_color = status.user.profile_background_color\n",
    "        \n",
    "        processed_text = sample_processing(text)\n",
    "        hashtags_list = get_hashtags_list(processed_text)\n",
    "        \n",
    "        es.index(index=\"twitter\",\n",
    "             doc_type=\"tweet\",\n",
    "             body={\n",
    "                \"created_at\": created_at,\n",
    "                \"text\": text,\n",
    "                \"user_description\": user_description,\n",
    "                \"user_location\": user_location,\n",
    "                \"coords\": coords,\n",
    "                \"user_name\": user_name,\n",
    "                \"user_created\": user_created,\n",
    "                \"followers\": followers,\n",
    "                \"id_str\": id_str,\n",
    "                \"retweets\": retweets,\n",
    "                \"bg_color\": bg_color,\n",
    "                \"processed_text\": processed_text,\n",
    "                \"hashtags_list\": hashtags_list})\n",
    "        \n",
    "        print text\n",
    "        \n",
    "        return True\n",
    "    \n",
    "     def on_error(self, status):\n",
    "        print(status)\n"
   ]
  },
  {
   "cell_type": "markdown",
   "metadata": {},
   "source": [
    "## Nawiązanie połączenia z API Twittera i uruchomienie stremingu\n",
    "\n",
    "W poniższej komórce nawiązywane jest połączenie z Twitterem za pomocą danych uwierzytelniających użytkownika a następnie uruchamiany jest 20 sekundowy streaming danych z przykładowym filtrem."
   ]
  },
  {
   "cell_type": "code",
   "execution_count": 69,
   "metadata": {
    "collapsed": false
   },
   "outputs": [
    {
     "name": "stdout",
     "output_type": "stream",
     "text": [
      "[u'#uam', u'#bigdata', u'#postgraduat']\n",
      "RT @roigada: -Mme Lepen que proposez vous pour réduire le chômage?\n",
      "-regardez c'est le score sur Candy Crush de Monsieur Macron\n",
      "-… \n",
      "[u'#MarineLePen', u'#FRANCIA', u'#EUROPA', u'#AvecMarine', u'#AuNomDuPeuple', u'#Marine2017', u'#Marine', u'#LePen', u'#uam', u'#bigdata', u'#postgraduat']\n",
      "RT @andrea_sorato: CON #MarineLePen PER UNA #FRANCIA ED UN #EUROPA LIBERE!\n",
      "#AvecMarine #AuNomDuPeuple #Marine2017 #Marine #LePen https://t.…\n",
      "[u'#Macron', u'#LePen', u'#uam', u'#bigdata', u'#postgraduat']\n",
      "RT @insoniascarvao: Só apanhei esta parte :(\n",
      "#Macron #LePen https://t.co/U5Yz9XjWFk\n",
      "[u'#MuslimBrotherhood', u'#LePen', u'#uam', u'#bigdata', u'#postgraduat']\n",
      "RT @AmyMek: No Surprise 🙄 #MuslimBrotherhood has called for ALL Soldiers of Allah to Vote against #LePen, who is promising to k… \n",
      "[u'#LePen', u'#grillino', u'#uam', u'#bigdata', u'#postgraduat']\n",
      "RT @DavideSilvestr6: Sinceramente penso che la #LePen sia più a sinistra del ciarpame #grillino. Che mandiamo a fare figure da cazzo pure a…\n",
      "[u'#uam', u'#bigdata', u'#postgraduat']\n",
      "RT @magendavid75: La douche froide avant dimanche ca commence ... https://t.co/mebb1f6ba1\n",
      "[u'#uam', u'#bigdata', u'#postgraduat']\n",
      "RT @BladeofLogic: Obama 2016: \"It's very concerning that a foreign power may have influenced our election.\"\n",
      "\n",
      "Obama 2017: \"Hold my bee… \n",
      "[u'#uam', u'#bigdata', u'#postgraduat']\n",
      "RT @AmineMaTue: - Marine Lepen où se situent les arabes que vous allez expulser  ?\n",
      "- ..\n",
      "https://t.co/eZrEIbLl1C\n",
      "[u'#uam', u'#bigdata', u'#postgraduat']\n",
      "RT @0_margueritte: Lepen et Jul c'est la même chose soit disant personne ne les aime mais quand c'est les élections ou une sorti d'album ça…\n",
      "[u'#France', u'#Macron', u'#LePen', u'#uam', u'#bigdata', u'#postgraduat']\n",
      "RT @OnlineMagazin: 🆘‼️😬🔥 #France: #Macron’s ‘Deplorables’ Moment? Establishment Candidate Brands 8m #LePen Voters ‘Hateful Cowards’!… \n",
      "[u'#uam', u'#bigdata', u'#postgraduat']\n",
      "RT @roigada: -Mme Lepen que proposez vous pour réduire le chômage?\n",
      "-regardez c'est le score sur Candy Crush de Monsieur Macron\n",
      "-… \n",
      "[u'#2017ledebat', u'#MacronCacheCash', u'#Macron', u'#AjaxOL', u'#uam', u'#bigdata', u'#postgraduat']\n",
      "RT @flippingareolas: #2017ledebat Nous savons où Macron garde l'argent! #MacronCacheCash très intelligente #Macron #AjaxOL Gonalons… \n",
      "[u'#DupontAignan', u'#LePen', u'#uam', u'#bigdata', u'#postgraduat']\n",
      "L'accord magique avec #DupontAignan sur l'euro était censé permettre un bond qualitatif à #LePen : il l'a, en réali… https://t.co/1rHYSHji95\n",
      "[u'#uam', u'#bigdata', u'#postgraduat']\n",
      "RT @JrcheneyJohn: Obama tried to influence the election in Israel, He Failed. He Tried with Brexit &amp; Failed. Now Obama is trying… \n",
      "[u'#uam', u'#bigdata', u'#postgraduat']\n",
      "RT @roigada: -Mme Lepen que proposez vous pour réduire le chômage?\n",
      "-regardez c'est le score sur Candy Crush de Monsieur Macron\n",
      "-… \n",
      "[u'#uam', u'#bigdata', u'#postgraduat']\n",
      "de base j'm pas forcement macron, mais vu comment il est rester zen devant lepen j'le respecte\n",
      "[u'#uam', u'#bigdata', u'#postgraduat']\n",
      "RT @casper011058: @GG_RMC @NPolony d'accord avec npolony sur l'appauvrissement des petits avec macron autant qu'avec lepen\n",
      "[u'#uam', u'#bigdata', u'#postgraduat']\n",
      "RT @Jolereveur: Marine lepen Jla vois comme ces meufs qui vont dire à ta go que tu la trompe mais qd on demande des preuves ça lache \" jedi…\n",
      "[u'#LePen', u'#uam', u'#bigdata', u'#postgraduat']\n",
      "RT @CCastaner: \"Je n'ai rien compris à la démonstration économique du projet de Marine #LePen.\" On sort de l'euro ou pas ? Et quand ? @fran…\n",
      "[u'#uam', u'#bigdata', u'#postgraduat']\n",
      "RT @roigada: -Mme Lepen que proposez vous pour réduire le chômage?\n",
      "-regardez c'est le score sur Candy Crush de Monsieur Macron\n",
      "-… \n"
     ]
    }
   ],
   "source": [
    "import time\n",
    "\n",
    "#This handles Twitter authetification and the connection to Twitter Streaming API\n",
    "listener = StreamProcessingListener()\n",
    "auth = OAuthHandler(consumer_key, consumer_secret)\n",
    "auth.set_access_token(access_token, access_token_secret)\n",
    "stream = Stream(auth, listener)\n",
    "\n",
    "#This line filter Twitter Streams to capture data by the keywords: 'python', 'javascript', 'ruby'\n",
    "stream.filter(track=['LePen'], async=True)\n",
    "time.sleep(20)\n",
    "stream.disconnect()"
   ]
  }
 ],
 "metadata": {
  "kernelspec": {
   "display_name": "Python 2",
   "language": "python",
   "name": "python2"
  },
  "language_info": {
   "codemirror_mode": {
    "name": "ipython",
    "version": 2
   },
   "file_extension": ".py",
   "mimetype": "text/x-python",
   "name": "python",
   "nbconvert_exporter": "python",
   "pygments_lexer": "ipython2",
   "version": "2.7.10"
  }
 },
 "nbformat": 4,
 "nbformat_minor": 2
}
