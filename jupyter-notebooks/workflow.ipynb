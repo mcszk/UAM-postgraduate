{
 "cells": [
  {
   "cell_type": "markdown",
   "metadata": {},
   "source": [
    "# Przetwarzanie tekstu na przykładzie strumienia danych z Twittera\n"
   ]
  },
  {
   "cell_type": "markdown",
   "metadata": {},
   "source": [
    "## Przykładowe przetwarzanie tekstu\n",
    "\n",
    "Poniższa komórka implementuje funkcję, która przyjmuje ciąg znaków (zmienną typu STRING) jako argument, modyfikuje ją i zwraca zmodyfikowaną wersję"
   ]
  },
  {
   "cell_type": "code",
   "execution_count": 2,
   "metadata": {
    "collapsed": false
   },
   "outputs": [
    {
     "name": "stdout",
     "output_type": "stream",
     "text": [
      "This is a sample text. It will be modified by sample_processing function. #uam #bigdata #postgraduate\n"
     ]
    }
   ],
   "source": [
    "def sample_processing(text):\n",
    "    return text + \" #uam #bigdata #postgraduate\"\n",
    "\n",
    "sample_text = \"This is a sample text. It will be modified by sample_processing function.\"\n",
    "processed_text = sample_processing(sample_text)\n",
    "print processed_text"
   ]
  },
  {
   "cell_type": "markdown",
   "metadata": {},
   "source": [
    "## Ustawienia kluczy i tokenów dla API Twittera\n",
    "\n",
    "W poniższej komórce ustawiane są zmienne niezbędne do uzyskania połączenia z API Twittera. Uzupełnij zmienne o swoje wartości kluczy i tokenów"
   ]
  },
  {
   "cell_type": "code",
   "execution_count": 3,
   "metadata": {
    "collapsed": true
   },
   "outputs": [],
   "source": [
    "access_token = \"2362404584-MJuLY5ISJq3CFxyDTVhuhI6rRjygCDxd9QYEzWg\"\n",
    "access_token_secret = \"pGD3PyMuz5M6YxzCkAryaytkPD0Eb2lF8q2aI9mNgg07o\"\n",
    "consumer_key = \"uOO1duKiGl0jaRBA9dRvewGXd\"\n",
    "consumer_secret = \"Odsld4Q5fAB9mk9VSJQUPYGDWcepOOUEZZk08Ya9CIR54szd4k\""
   ]
  },
  {
   "cell_type": "markdown",
   "metadata": {},
   "source": [
    "## Implementacja klasy służącej do Streamingu danych z Twittera\n",
    "\n",
    "W poniższej komórce implementowana jest klasa służąca do pobierania streamu danych z Twittera. Klasa ta dziedziczy klasę StreamListener pochodzącą z biblioteki tweepy (biblioteki służącej do łączenia się z API Twittera za pomocą Pythona).\n",
    "Implementacja poniższej klasy modyfikuje domyślną metodę on_status(), która uruchamiana jest przy pojawieniu się każdego nowego statusu (tweeta) na Twitterze. "
   ]
  },
  {
   "cell_type": "code",
   "execution_count": 4,
   "metadata": {
    "collapsed": true
   },
   "outputs": [],
   "source": [
    "#Import the necessary methods from tweepy library\n",
    "import tweepy\n",
    "from tweepy.streaming import StreamListener\n",
    "from tweepy import OAuthHandler\n",
    "from tweepy import Stream\n",
    "import json\n",
    "\n",
    "class StreamProcessingListener(StreamListener):\n",
    "\n",
    "     def on_status(self, status):\n",
    "        description = status.user.description\n",
    "        loc = status.user.location\n",
    "        text = status.text\n",
    "        coords = status.coordinates\n",
    "        name = status.user.screen_name\n",
    "        user_created = status.user.created_at\n",
    "        followers = status.user.followers_count\n",
    "        id_str = status.id_str\n",
    "        created = status.created_at\n",
    "        retweets = status.retweet_count\n",
    "        bg_color = status.user.profile_background_color\n",
    "        \n",
    "        processed_text = sample_processing(text)\n",
    "        \n",
    "        print text\n",
    "        \n",
    "        return True\n",
    "    \n",
    "     def on_error(self, status):\n",
    "        print(status)\n"
   ]
  },
  {
   "cell_type": "markdown",
   "metadata": {},
   "source": [
    "## Nawiązanie połączenia z API Twittera i uruchomienie stremingu\n",
    "\n",
    "W poniższej komórce nawiązywane jest połączenie z Twitterem za pomocą danych uwierzytelniających użytkownika a następnie uruchamiany jest 20 sekundowy streaming danych z przykładowym filtrem."
   ]
  },
  {
   "cell_type": "code",
   "execution_count": 5,
   "metadata": {
    "collapsed": false
   },
   "outputs": [
    {
     "name": "stdout",
     "output_type": "stream",
     "text": [
      "RT @FabriceBalique: #GrandDebat\n",
      "étrange que #lepen ne condamne pas la fourniture d'arme par les membres du #FN au terroristes comme #Koulib…\n",
      "RT @NayskoSSJ2: elle a changé Marine lepen ptdddr https://t.co/klA3uyFg8c\n",
      "@MLP_officiel Bonsoir Marine Lepen j ai regardé un peu le debat d hier soir vous avez bien fait et mal fait vous au… https://t.co/Gt0cdA6QYr\n",
      "RT @mompontet: LE dessin du jour. Juste parfait ! 👍 @joannsfar #Debat2017 #LePen #Trump https://t.co/4nR62jyQnM\n",
      "RT @emmaus_france: N'en déplaise à Mme #LePen la préférence nationale ne crée pas d'emploi. Elle crée des exclus &amp; des chômeurs #alterQG #2…\n",
      "RT @FabriceBalique: #GrandDebat\n",
      "#lepen oublie le financement de #daech par  des membres du #FN par #lafarge\n",
      "qu'a t il négocié pour le #FN q…\n",
      "RT @LadyAodh: Welcome to Paris. \n",
      "\n",
      "This could be your future!\n",
      "\n",
      "#LePen #2017LeDebat #WhiteGenocide #AltRight #JT20H #JLM2017… \n",
      "RT @JimRobinsonSEA: The WORLD is SICK of ISLAM !!!\n",
      "#BanMuslims #BanIslam #JeVoteMarine #LePen #FN #Frexit #Brexit #UKIP #Resistance… \n",
      "RT @roigada: -Mme Lepen que proposez vous pour réduire le chômage?\n",
      "-regardez c'est le score sur Candy Crush de Monsieur Macron\n",
      "-… \n",
      "RT @roigada: -Mme Lepen que proposez vous pour réduire le chômage?\n",
      "-regardez c'est le score sur Candy Crush de Monsieur Macron\n",
      "-… \n",
      "RT @bouchranazzal: La nuit ne porte pas conseil à Mme #LePen ! Comme hier, elle compense le vide de son programme par de l'agressivité… \n",
      "#2017LeDebat mon bulletin pour #macron, sinon c'est #LEPEN et le #FN\n",
      "Bon, à qui on donne les clés du pays ?… https://t.co/AkgR3TkktW\n",
      "RT @EMacron_2017: [#MACRONPRESIDENT 🇫🇷 #2017LeDébat]\n",
      "Pas moins de 19 intox de M. #LePen décryptées par @lemondefr ! N'en jetez plus... http…\n",
      "RT @FabriceBalique: #GrandDebat\n",
      "RAPPEL\n",
      "#lepen EST SOUTENUE PAR LE KKK et les partis néo nazi américain ‼️\n",
      "mais ça elle n'en parle pas\n",
      "elle faisait genre elle était de mon avoir jsp quoi ok macron il est pas super nn plus mais tu peux pas voter lepen comme ca\n",
      "RT @roigada: -Mme Lepen que proposez vous pour réduire le chômage?\n",
      "-regardez c'est le score sur Candy Crush de Monsieur Macron\n",
      "-… \n",
      "Et zou sur les brushing ( très bon pour les cheveux les oeufs). #LePen ta gueule. https://t.co/RDfk5cLYnI\n",
      "La mère  Le Pen etait vraiment mal en point pour commencer aussi vulgaire https://t.co/DhGrE7bLeP\n",
      "RT @emmaus_france: N'en déplaise à Mme #LePen la préférence nationale ne crée pas d'emploi. Elle crée des exclus &amp; des chômeurs #alterQG #2…\n",
      "qd j'pense qu'au 1er tour dans la région centre, hormis l'indre-et-loire, lepen est arrivé en tête des departements, j'ai honte de ma région\n",
      "RT @supermorgy: FRENCH PRESIDENTIAL ELECTIONS Goes to RUNOFF Between LE PEN and MACRON https://t.co/RrUnp4v3q0… \n",
      "@ScottAdamsSays You know nothing about France. On the day your Trump+GOP is taking away healthcare from the weakest… https://t.co/0wtzyJEKRZ\n",
      "RT @nicowade30: Si tu connais pas l'expression \"c'est l'hôpital qui se fout de la charité\", écoute lepen sur TF1\n",
      "RT @FabriceBalique: #GrandDebat\n",
      "donc avec #lepen les entreprises auront l'#euro pour commercer\n",
      "et elle payeront les salaires en franc !\n",
      "n'i…\n",
      "RT @roigada: -Mme Lepen que proposez vous pour réduire le chômage?\n",
      "-regardez c'est le score sur Candy Crush de Monsieur Macron\n",
      "-… \n",
      "@HassanSiyef @BFMTV @hugoengel4 @Le_Figaro la crédibilité perdue c'est celle de Lepen et donc du Fn si elle est pas… https://t.co/bFf1lk8BS3\n",
      "RT @Le_Ptrolls: Vas y ma fille, on est tous derrière toi !\n",
      "#2017Ledebat #debat2017 #LePen https://t.co/5CEaICoOEi\n",
      "RT @dji_djins: Lepen hier elle etait trop en chaleur \"ya un salafiste qui vous soutient blabla\", mtn pk elle vien pas dire Barack Obama le…\n"
     ]
    }
   ],
   "source": [
    "import time\n",
    "\n",
    "#This handles Twitter authetification and the connection to Twitter Streaming API\n",
    "listener = StreamProcessingListener()\n",
    "auth = OAuthHandler(consumer_key, consumer_secret)\n",
    "auth.set_access_token(access_token, access_token_secret)\n",
    "stream = Stream(auth, listener)\n",
    "\n",
    "#This line filter Twitter Streams to capture data by the keywords: 'python', 'javascript', 'ruby'\n",
    "stream.filter(track=['LePen'], async=True)\n",
    "time.sleep(20)\n",
    "stream.disconnect()"
   ]
  }
 ],
 "metadata": {
  "kernelspec": {
   "display_name": "Python 2",
   "language": "python",
   "name": "python2"
  },
  "language_info": {
   "codemirror_mode": {
    "name": "ipython",
    "version": 2
   },
   "file_extension": ".py",
   "mimetype": "text/x-python",
   "name": "python",
   "nbconvert_exporter": "python",
   "pygments_lexer": "ipython2",
   "version": "2.7.10"
  }
 },
 "nbformat": 4,
 "nbformat_minor": 2
}
